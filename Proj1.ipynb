{
 "cells": [
  {
   "cell_type": "code",
   "execution_count": 1,
   "metadata": {},
   "outputs": [],
   "source": [
    "import pandas as pd"
   ]
  },
  {
   "cell_type": "code",
   "execution_count": 8,
   "metadata": {},
   "outputs": [],
   "source": [
    "data=pd.read_csv(\"election_train.csv\")"
   ]
  },
  {
   "cell_type": "code",
   "execution_count": 9,
   "metadata": {},
   "outputs": [
    {
     "data": {
      "text/plain": [
       "(2410, 6)"
      ]
     },
     "execution_count": 9,
     "metadata": {},
     "output_type": "execute_result"
    }
   ],
   "source": [
    "data.shape"
   ]
  },
  {
   "cell_type": "code",
   "execution_count": 31,
   "metadata": {},
   "outputs": [],
   "source": [
    "data1=pd.pivot_table(data,index=['Year','State','County','Office'],columns='Party',values='Votes',aggfunc=sum).reset_index()"
   ]
  },
  {
   "cell_type": "code",
   "execution_count": 28,
   "metadata": {},
   "outputs": [
    {
     "data": {
      "text/plain": [
       "(1205, 6)"
      ]
     },
     "execution_count": 28,
     "metadata": {},
     "output_type": "execute_result"
    }
   ],
   "source": [
    "data1.shape"
   ]
  },
  {
   "cell_type": "code",
   "execution_count": 32,
   "metadata": {},
   "outputs": [
    {
     "data": {
      "text/html": [
       "<div>\n",
       "<style scoped>\n",
       "    .dataframe tbody tr th:only-of-type {\n",
       "        vertical-align: middle;\n",
       "    }\n",
       "\n",
       "    .dataframe tbody tr th {\n",
       "        vertical-align: top;\n",
       "    }\n",
       "\n",
       "    .dataframe thead th {\n",
       "        text-align: right;\n",
       "    }\n",
       "</style>\n",
       "<table border=\"1\" class=\"dataframe\">\n",
       "  <thead>\n",
       "    <tr style=\"text-align: right;\">\n",
       "      <th>Party</th>\n",
       "      <th>Year</th>\n",
       "      <th>State</th>\n",
       "      <th>County</th>\n",
       "      <th>Office</th>\n",
       "      <th>Democratic</th>\n",
       "      <th>Republican</th>\n",
       "    </tr>\n",
       "  </thead>\n",
       "  <tbody>\n",
       "    <tr>\n",
       "      <td>0</td>\n",
       "      <td>2018</td>\n",
       "      <td>AZ</td>\n",
       "      <td>Apache County</td>\n",
       "      <td>US Senator</td>\n",
       "      <td>16298.0</td>\n",
       "      <td>7810.0</td>\n",
       "    </tr>\n",
       "    <tr>\n",
       "      <td>1</td>\n",
       "      <td>2018</td>\n",
       "      <td>AZ</td>\n",
       "      <td>Cochise County</td>\n",
       "      <td>US Senator</td>\n",
       "      <td>17383.0</td>\n",
       "      <td>26929.0</td>\n",
       "    </tr>\n",
       "    <tr>\n",
       "      <td>2</td>\n",
       "      <td>2018</td>\n",
       "      <td>AZ</td>\n",
       "      <td>Coconino County</td>\n",
       "      <td>US Senator</td>\n",
       "      <td>34240.0</td>\n",
       "      <td>19249.0</td>\n",
       "    </tr>\n",
       "    <tr>\n",
       "      <td>3</td>\n",
       "      <td>2018</td>\n",
       "      <td>AZ</td>\n",
       "      <td>Gila County</td>\n",
       "      <td>US Senator</td>\n",
       "      <td>7643.0</td>\n",
       "      <td>12180.0</td>\n",
       "    </tr>\n",
       "    <tr>\n",
       "      <td>4</td>\n",
       "      <td>2018</td>\n",
       "      <td>AZ</td>\n",
       "      <td>Graham County</td>\n",
       "      <td>US Senator</td>\n",
       "      <td>3368.0</td>\n",
       "      <td>6870.0</td>\n",
       "    </tr>\n",
       "    <tr>\n",
       "      <td>...</td>\n",
       "      <td>...</td>\n",
       "      <td>...</td>\n",
       "      <td>...</td>\n",
       "      <td>...</td>\n",
       "      <td>...</td>\n",
       "      <td>...</td>\n",
       "    </tr>\n",
       "    <tr>\n",
       "      <td>1200</td>\n",
       "      <td>2018</td>\n",
       "      <td>WY</td>\n",
       "      <td>Platte County</td>\n",
       "      <td>US Senator</td>\n",
       "      <td>801.0</td>\n",
       "      <td>2850.0</td>\n",
       "    </tr>\n",
       "    <tr>\n",
       "      <td>1201</td>\n",
       "      <td>2018</td>\n",
       "      <td>WY</td>\n",
       "      <td>Sublette County</td>\n",
       "      <td>US Senator</td>\n",
       "      <td>668.0</td>\n",
       "      <td>2653.0</td>\n",
       "    </tr>\n",
       "    <tr>\n",
       "      <td>1202</td>\n",
       "      <td>2018</td>\n",
       "      <td>WY</td>\n",
       "      <td>Sweetwater County</td>\n",
       "      <td>US Senator</td>\n",
       "      <td>3943.0</td>\n",
       "      <td>8577.0</td>\n",
       "    </tr>\n",
       "    <tr>\n",
       "      <td>1203</td>\n",
       "      <td>2018</td>\n",
       "      <td>WY</td>\n",
       "      <td>Uinta County</td>\n",
       "      <td>US Senator</td>\n",
       "      <td>1371.0</td>\n",
       "      <td>4713.0</td>\n",
       "    </tr>\n",
       "    <tr>\n",
       "      <td>1204</td>\n",
       "      <td>2018</td>\n",
       "      <td>WY</td>\n",
       "      <td>Washakie County</td>\n",
       "      <td>US Senator</td>\n",
       "      <td>588.0</td>\n",
       "      <td>2423.0</td>\n",
       "    </tr>\n",
       "  </tbody>\n",
       "</table>\n",
       "<p>1205 rows × 6 columns</p>\n",
       "</div>"
      ],
      "text/plain": [
       "Party  Year State             County      Office  Democratic  Republican\n",
       "0      2018    AZ      Apache County  US Senator     16298.0      7810.0\n",
       "1      2018    AZ     Cochise County  US Senator     17383.0     26929.0\n",
       "2      2018    AZ    Coconino County  US Senator     34240.0     19249.0\n",
       "3      2018    AZ        Gila County  US Senator      7643.0     12180.0\n",
       "4      2018    AZ      Graham County  US Senator      3368.0      6870.0\n",
       "...     ...   ...                ...         ...         ...         ...\n",
       "1200   2018    WY      Platte County  US Senator       801.0      2850.0\n",
       "1201   2018    WY    Sublette County  US Senator       668.0      2653.0\n",
       "1202   2018    WY  Sweetwater County  US Senator      3943.0      8577.0\n",
       "1203   2018    WY       Uinta County  US Senator      1371.0      4713.0\n",
       "1204   2018    WY    Washakie County  US Senator       588.0      2423.0\n",
       "\n",
       "[1205 rows x 6 columns]"
      ]
     },
     "execution_count": 32,
     "metadata": {},
     "output_type": "execute_result"
    }
   ],
   "source": [
    "data1"
   ]
  },
  {
   "cell_type": "code",
   "execution_count": null,
   "metadata": {},
   "outputs": [],
   "source": []
  }
 ],
 "metadata": {
  "kernelspec": {
   "display_name": "Python 3",
   "language": "python",
   "name": "python3"
  },
  "language_info": {
   "codemirror_mode": {
    "name": "ipython",
    "version": 3
   },
   "file_extension": ".py",
   "mimetype": "text/x-python",
   "name": "python",
   "nbconvert_exporter": "python",
   "pygments_lexer": "ipython3",
   "version": "3.7.4"
  }
 },
 "nbformat": 4,
 "nbformat_minor": 2
}
